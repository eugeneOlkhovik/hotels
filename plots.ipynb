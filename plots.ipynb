{
 "cells": [
  {
   "cell_type": "code",
   "execution_count": null,
   "metadata": {},
   "outputs": [],
   "source": [
    "\n",
    "# https://plotly.com/python/renderers/\n",
    "import pandas as pd\n",
    "import numpy as np\n",
    "import missingno as msno\n",
    "import plotly.express as px\n",
    "from plotly.subplots import make_subplots\n",
    "import plotly.graph_objects as go\n",
    "import seaborn as sns\n",
    "from matplotlib import pyplot as plt\n",
    "import utils"
   ]
  },
  {
   "cell_type": "code",
   "execution_count": null,
   "metadata": {},
   "outputs": [],
   "source": [
    "colors=px.colors.sequential.RdBu\n",
    "\n",
    "months = [\"January\", \"February\", \"March\", \"April\", \"May\", \"June\", \n",
    "          \"July\", \"August\", \"September\", \"October\", \"November\", \"December\"]"
   ]
  },
  {
   "cell_type": "code",
   "execution_count": null,
   "metadata": {},
   "outputs": [],
   "source": [
    "df = pd.read_csv('hotels.csv')\n",
    "print(f'Data set has {df.shape[0]} records and {df.shape[1]} parameters')\n"
   ]
  },
  {
   "cell_type": "code",
   "execution_count": null,
   "metadata": {},
   "outputs": [],
   "source": [
    "map_target_col = {0 : 'not_canceled', 1 : 'canceled'}\n",
    "df['is_canceled'] = df['is_canceled'].map(map_target_col)\n",
    "df['is_canceled'] = df['is_canceled'].astype('category')\n",
    "\n",
    "map_is_repeated_guest_col = {0 : 'new_guest', 1 : 'repeated_guest'}\n",
    "df['is_repeated_guest'] = df['is_repeated_guest'].map(map_is_repeated_guest_col)\n",
    "df['is_repeated_guest'] = df['is_repeated_guest'].astype('category')\n",
    "\n"
   ]
  },
  {
   "cell_type": "code",
   "execution_count": null,
   "metadata": {},
   "outputs": [],
   "source": [
    "df.head()"
   ]
  },
  {
   "cell_type": "markdown",
   "metadata": {},
   "source": [
    "### Missing values\n",
    "<ul>\n",
    "<li>'Company' column can be eliminated since it is almost empty (95% of missing values).</li>\n",
    "<li>'Agent' column has 13% of NaN</li>\n",
    "<li>'previous_cancellations' and 'country' columns have less than 1% of NaN values</li>\n",
    "</ul>\n",
    "Thus, it is accesible to remove records comprising Nan values"
   ]
  },
  {
   "cell_type": "code",
   "execution_count": null,
   "metadata": {},
   "outputs": [],
   "source": [
    "msno.matrix(df)"
   ]
  },
  {
   "cell_type": "code",
   "execution_count": null,
   "metadata": {},
   "outputs": [],
   "source": [
    "df.isnull().mean().round(4).mul(100).sort_values(ascending=False).head(5)"
   ]
  },
  {
   "cell_type": "code",
   "execution_count": null,
   "metadata": {},
   "outputs": [],
   "source": [
    "df = df.drop(['company'], axis=1)\n",
    "df = df.dropna()"
   ]
  },
  {
   "cell_type": "code",
   "execution_count": null,
   "metadata": {},
   "outputs": [],
   "source": [
    "df.info()"
   ]
  },
  {
   "cell_type": "markdown",
   "metadata": {},
   "source": [
    "#### Target value - <b><i>is_canceled</b></i>\n",
    "Target value is imbalanced - 75166 records of class '0' and 44224 for class '1'\n",
    "\n",
    "Ratio 0.588"
   ]
  },
  {
   "cell_type": "code",
   "execution_count": null,
   "metadata": {},
   "outputs": [],
   "source": [
    "df.is_canceled.value_counts()\n"
   ]
  },
  {
   "cell_type": "code",
   "execution_count": null,
   "metadata": {},
   "outputs": [],
   "source": [
    "print(f'Classes ratio: {round(df.is_canceled.value_counts()[1]/df.is_canceled.value_counts()[0],3)}')"
   ]
  },
  {
   "cell_type": "markdown",
   "metadata": {},
   "source": [
    "# EDA "
   ]
  },
  {
   "cell_type": "markdown",
   "metadata": {},
   "source": [
    "#### <b>hotel</b> variable - type of a hotel"
   ]
  },
  {
   "cell_type": "code",
   "execution_count": null,
   "metadata": {},
   "outputs": [],
   "source": [
    "df.hotel.value_counts()\n"
   ]
  },
  {
   "cell_type": "code",
   "execution_count": null,
   "metadata": {},
   "outputs": [],
   "source": [
    "utils.get_pie_plot(df,'hotel', 'Hotel type')"
   ]
  },
  {
   "cell_type": "code",
   "execution_count": null,
   "metadata": {},
   "outputs": [],
   "source": [
    "utils.get_histogram_target_plot(df,'hotel', 'Hotel type')"
   ]
  },
  {
   "cell_type": "markdown",
   "metadata": {},
   "source": [
    "### Prices by hotel type \n",
    "Avarage daily rate by reservation"
   ]
  },
  {
   "cell_type": "code",
   "execution_count": null,
   "metadata": {},
   "outputs": [],
   "source": []
  },
  {
   "cell_type": "code",
   "execution_count": null,
   "metadata": {},
   "outputs": [],
   "source": [
    "df['adr_per_person'] = pd.DataFrame(df[\"adr\"] / (df[\"adults\"] + df[\"children\"]))"
   ]
  },
  {
   "cell_type": "code",
   "execution_count": null,
   "metadata": {},
   "outputs": [],
   "source": [
    "fig = px.box(df[df['is_canceled'] == 'not_canceled'], y=\"adr_per_person\", x=\"hotel\", color='reserved_room_type',color_discrete_sequence=colors)\n",
    "fig.update_traces(boxpoints=False) \n",
    "fig.update_layout(height=600, width=800, title_text='Price room by hotel type and room type', showlegend=True, yaxis_title=\"Price\")\n",
    "fig.show()\n"
   ]
  },
  {
   "cell_type": "code",
   "execution_count": null,
   "metadata": {},
   "outputs": [],
   "source": [
    "fig = px.box(df[df['is_canceled'] == 'not_canceled'], y=\"adr_per_person\", x=\"hotel\",color_discrete_sequence=colors)\n",
    "fig.update_traces(boxpoints=False) \n",
    "fig.update_layout(height=600, width=800, title_text='Price room by hotel type', showlegend=True, yaxis_title=\"Price\")\n",
    "fig.show()"
   ]
  },
  {
   "cell_type": "markdown",
   "metadata": {},
   "source": [
    "### lead_time\n",
    "With increasing of booking-arrival interval amount of cancelations is also increasing. Staring from reservation in 250 days advance amount of canceletions exceeds amount of actual arrivals. "
   ]
  },
  {
   "cell_type": "code",
   "execution_count": null,
   "metadata": {},
   "outputs": [],
   "source": [
    "df.lead_time.describe()\n"
   ]
  },
  {
   "cell_type": "code",
   "execution_count": null,
   "metadata": {},
   "outputs": [],
   "source": [
    "utils.get_histogram_plot(df,'lead_time', 'days between booking and arriving',50)"
   ]
  },
  {
   "cell_type": "code",
   "execution_count": null,
   "metadata": {},
   "outputs": [],
   "source": []
  },
  {
   "cell_type": "code",
   "execution_count": null,
   "metadata": {},
   "outputs": [],
   "source": [
    "utils.get_histogram_target_plot(df,'lead_time', \"days between booking and arriving with respest to cancelation\", 50)"
   ]
  },
  {
   "cell_type": "code",
   "execution_count": null,
   "metadata": {},
   "outputs": [],
   "source": [
    "utils.get_box_plot(df, 'lead_time', \"box plot for lead_time column\")"
   ]
  },
  {
   "cell_type": "markdown",
   "metadata": {},
   "source": [
    "### Dates columns\n",
    "<ul> \n",
    "<li><b>arrival_date_year</b></li>\n",
    "<li><b>arrival_date_month</b></li>\n",
    "<li><b>arrival_date_week_number</b></li>\n",
    "<li><b>arrival_date_day_of_month</b></li>\n",
    "</ul>\n",
    "\n"
   ]
  },
  {
   "cell_type": "markdown",
   "metadata": {},
   "source": [
    "From histogram plots we can observe that summer is most popular season and winter is the slowest one. \n",
    "\n",
    "New variable will be created - \"Season\" with next categories \n",
    "<ul> \n",
    "<li><b>winter</b></li>\n",
    "<li><b>spring</b></li>\n",
    "<li><b>summer</b></li>\n",
    "<li><b>autumn</b></li>\n",
    "</ul>\n"
   ]
  },
  {
   "cell_type": "code",
   "execution_count": null,
   "metadata": {},
   "outputs": [],
   "source": [
    "names = ['year', 'month']\n",
    "df['arrival_date_year'] = df['arrival_date_year'].astype('string').astype('category')\n",
    "df['arrival_date_month'] = df['arrival_date_month'].astype('category')\n",
    "utils.get_hist_subplot(df,['arrival_date_year', 'arrival_date_month'], \"Years and months Histograms\",(\"Year\", \"Month\"))"
   ]
  },
  {
   "cell_type": "code",
   "execution_count": null,
   "metadata": {},
   "outputs": [],
   "source": [
    "utils.get_subplots_with_cancelation(df,['arrival_date_year','arrival_date_month'],\"Years and months Histograms\",(\"year\", \"month\"))"
   ]
  },
  {
   "cell_type": "code",
   "execution_count": null,
   "metadata": {},
   "outputs": [],
   "source": [
    "utils.get_histogram_target_plot(df, 'arrival_date_month', 'Monthly season')"
   ]
  },
  {
   "cell_type": "markdown",
   "metadata": {},
   "source": [
    "### Monthly price changes"
   ]
  },
  {
   "cell_type": "code",
   "execution_count": null,
   "metadata": {},
   "outputs": [],
   "source": [
    "utils.get_plot_price_monthly(df)"
   ]
  },
  {
   "cell_type": "markdown",
   "metadata": {},
   "source": [
    "### stays_in_weekend_nights, stays_in_week_nights"
   ]
  },
  {
   "cell_type": "code",
   "execution_count": null,
   "metadata": {},
   "outputs": [],
   "source": [
    "utils.get_subplots_with_cancelation(df,['stays_in_weekend_nights','stays_in_week_nights'],\"Years and months Histograms\",(\"weekend\", \"week\"))"
   ]
  },
  {
   "cell_type": "code",
   "execution_count": null,
   "metadata": {},
   "outputs": [],
   "source": [
    "df['stay_duration'] = df[\"stays_in_weekend_nights\"] + df[\"stays_in_week_nights\"]"
   ]
  },
  {
   "cell_type": "code",
   "execution_count": null,
   "metadata": {},
   "outputs": [],
   "source": [
    "fig = px.histogram(df[df['is_canceled'] == 'not_canceled'],x='stay_duration', width=800, height=600, barmode='group', \n",
    "                   title = 'Length of stay',color='hotel', color_discrete_sequence=colors, nbins=15, histnorm='percent')\n",
    "fig.update_layout(\n",
    "    xaxis_title=\"Duration (days)\", yaxis_title=\"% of booking by hotel type\"\n",
    ")\n",
    "fig.show()"
   ]
  },
  {
   "cell_type": "code",
   "execution_count": null,
   "metadata": {},
   "outputs": [],
   "source": []
  },
  {
   "cell_type": "markdown",
   "metadata": {},
   "source": [
    "### Adults, children, babies\n",
    "Classes are unbalanced, can be eliminated "
   ]
  },
  {
   "cell_type": "code",
   "execution_count": null,
   "metadata": {},
   "outputs": [],
   "source": [
    "df.adults.value_counts()"
   ]
  },
  {
   "cell_type": "code",
   "execution_count": null,
   "metadata": {},
   "outputs": [],
   "source": [
    "df.children.value_counts()"
   ]
  },
  {
   "cell_type": "code",
   "execution_count": null,
   "metadata": {},
   "outputs": [],
   "source": [
    "df.babies.value_counts()"
   ]
  },
  {
   "cell_type": "code",
   "execution_count": null,
   "metadata": {},
   "outputs": [],
   "source": [
    "utils.get_histogram_target_plot(df,'adults', 'Amount of Adults')"
   ]
  },
  {
   "cell_type": "code",
   "execution_count": null,
   "metadata": {},
   "outputs": [],
   "source": [
    "utils.get_subplots_with_cancelation(df,['babies','children'], 'Children',('babies','children'))"
   ]
  },
  {
   "cell_type": "markdown",
   "metadata": {},
   "source": [
    "### meal\n",
    "<ul>\n",
    "<li>Undefined/SC – no meal package;</li>\n",
    "<li>BB – Bed & Breakfast;</li>\n",
    "<li>HB – Half board (breakfast and one other meal – usually dinner);</li>\n",
    "<li>FB – Full board (breakfast, lunch and dinner)</li>\n",
    "</ul>\n",
    "\n",
    "75.5% of bookings are with included breakfast"
   ]
  },
  {
   "cell_type": "code",
   "execution_count": null,
   "metadata": {},
   "outputs": [],
   "source": [
    "\n",
    "utils.get_pie_plot(df,'meal', 'Type of meal booked')"
   ]
  },
  {
   "cell_type": "code",
   "execution_count": null,
   "metadata": {},
   "outputs": [],
   "source": [
    "df.groupby(by=['hotel','meal'])['meal'].count()"
   ]
  },
  {
   "cell_type": "code",
   "execution_count": null,
   "metadata": {},
   "outputs": [],
   "source": [
    "fig = px.histogram(df[df['is_canceled'] == 'not_canceled'],x='meal', width=800, height=600, barmode='group', \n",
    "                   title = 'Meal type vs Hotel type',color='hotel', color_discrete_sequence=colors, nbins=15, histnorm='percent')\n",
    "fig.update_layout(\n",
    "    xaxis_title=\"Duration (days)\", yaxis_title=\"% of reservations by hotel type\"\n",
    ")\n",
    "fig.show()"
   ]
  },
  {
   "cell_type": "code",
   "execution_count": null,
   "metadata": {},
   "outputs": [],
   "source": []
  },
  {
   "cell_type": "markdown",
   "metadata": {},
   "source": [
    "### Country \n",
    "There are 178 countries in 'country' column. 15 countries occur in 90% of records.\n",
    "\n",
    "Only in Portugal amount of canceled reservations exceeds amount of completed ones"
   ]
  },
  {
   "cell_type": "code",
   "execution_count": null,
   "metadata": {},
   "outputs": [],
   "source": [
    "df.country.value_counts().head(15)"
   ]
  },
  {
   "cell_type": "code",
   "execution_count": null,
   "metadata": {},
   "outputs": [],
   "source": [
    "freq_countries = list(df.country.value_counts().head(15).index)\n",
    "utils.get_histogram_target_plot( df[df['country'].isin(freq_countries)], 'country','Top 15 countries where booking were made', 15)\n"
   ]
  },
  {
   "cell_type": "markdown",
   "metadata": {},
   "source": [
    "### market_segment and distribution_channel"
   ]
  },
  {
   "cell_type": "code",
   "execution_count": null,
   "metadata": {},
   "outputs": [],
   "source": [
    "utils.get_pie_plot(df, 'market_segment', 'Market segment designation')"
   ]
  },
  {
   "cell_type": "code",
   "execution_count": null,
   "metadata": {},
   "outputs": [],
   "source": [
    "utils.get_pie_plot(df, 'distribution_channel', 'Booking distribution channel')\n"
   ]
  },
  {
   "cell_type": "code",
   "execution_count": null,
   "metadata": {},
   "outputs": [],
   "source": [
    "fig = px.histogram(df,x='market_segment', width=800, height=600, barmode='group', \n",
    "                   title = 'Cancellation vs Market segment designation',color='is_canceled', color_discrete_sequence=colors, nbins=15, histnorm='percent')\n",
    "fig.update_layout(\n",
    "    xaxis_title=\"Designation\", yaxis_title=\"percents\"\n",
    ")\n",
    "fig.show()"
   ]
  },
  {
   "cell_type": "code",
   "execution_count": null,
   "metadata": {},
   "outputs": [],
   "source": [
    "utils.get_histogram_target_plot( df, 'distribution_channel','TBookings', 15)"
   ]
  },
  {
   "cell_type": "code",
   "execution_count": null,
   "metadata": {},
   "outputs": [],
   "source": [
    "utils.get_histogram_target_plot( df, 'market_segment','Market segment designation', 15)"
   ]
  },
  {
   "cell_type": "code",
   "execution_count": null,
   "metadata": {},
   "outputs": [],
   "source": [
    "utils.get_subplots_with_cancelation(df,['distribution_channel','market_segment'], 'Market Segments',('Booking distribution channel','Market segment designation'))"
   ]
  },
  {
   "cell_type": "markdown",
   "metadata": {},
   "source": [
    "### is_repeated_guest, previous_cancellations and previous_bookings_not_canceled\n",
    "Among bookings by new guests ratio of cancelation is higher than returned customers (39% over 27%)\n"
   ]
  },
  {
   "cell_type": "code",
   "execution_count": null,
   "metadata": {},
   "outputs": [],
   "source": [
    "utils.get_pie_plot(df, 'is_repeated_guest', 'Ratio of repeated customers')\n"
   ]
  },
  {
   "cell_type": "code",
   "execution_count": null,
   "metadata": {},
   "outputs": [],
   "source": [
    "\n",
    "is_repeated_guest =  df.groupby(by=['is_repeated_guest','is_canceled']).agg({'is_canceled': 'count'})\n",
    "guests_pcts = is_repeated_guest.groupby(level=0).apply(lambda x:\n",
    "                                                 100 * x / float(x.sum()))\n",
    "guests_pcts"
   ]
  },
  {
   "cell_type": "code",
   "execution_count": null,
   "metadata": {},
   "outputs": [],
   "source": [
    "previous_cancellations =  df.groupby(by=['previous_cancellations','is_canceled']).agg({'is_canceled': 'count'})\n",
    "cancel_pcts = previous_cancellations.groupby(level=0).apply(lambda x:\n",
    "                                                 100 * x / float(x.sum()))\n",
    "cancel_pcts"
   ]
  },
  {
   "cell_type": "code",
   "execution_count": null,
   "metadata": {},
   "outputs": [],
   "source": [
    "utils.get_subplots_with_cancelation(df,['previous_cancellations','previous_bookings_not_canceled'],'Number of previous bookings that were canceled or not', ['were canceled', 'were not canceled'])"
   ]
  },
  {
   "cell_type": "markdown",
   "metadata": {},
   "source": [
    "### reserved_room_type and assigned_room_type"
   ]
  },
  {
   "cell_type": "code",
   "execution_count": null,
   "metadata": {},
   "outputs": [],
   "source": [
    "utils.get_subplots_with_cancelation(df,(\"reserved_room_type\", \"assigned_room_type\"),'Room types: reserved and assigned o the booking',('Reserved type','assigned type'))"
   ]
  },
  {
   "cell_type": "code",
   "execution_count": null,
   "metadata": {},
   "outputs": [],
   "source": [
    "reserved_room_type =  df.groupby(by=['reserved_room_type','is_canceled']).agg({'is_canceled': 'count'})\n",
    "reserved_room_type_pcts = reserved_room_type.groupby(level=0).apply(lambda x:\n",
    "                                                 100 * x / float(x.sum()))\n",
    "reserved_room_type_pcts"
   ]
  },
  {
   "cell_type": "code",
   "execution_count": null,
   "metadata": {},
   "outputs": [],
   "source": [
    "assigned_room_type =  df.groupby(by=['assigned_room_type','is_canceled']).agg({'is_canceled': 'count'})\n",
    "assigned_room_type_pcts = assigned_room_type.groupby(level=0).apply(lambda x:\n",
    "                                                 100 * x / float(x.sum()))\n",
    "assigned_room_type_pcts"
   ]
  },
  {
   "cell_type": "markdown",
   "metadata": {},
   "source": [
    "Column with redused room"
   ]
  },
  {
   "cell_type": "code",
   "execution_count": null,
   "metadata": {},
   "outputs": [],
   "source": [
    "#df['decreased_room_type'] = np.where(df['reserved_room_type'] < df['assigned_room_type'],1, 0)"
   ]
  },
  {
   "cell_type": "code",
   "execution_count": null,
   "metadata": {},
   "outputs": [],
   "source": [
    "utils.get_pie_plot(df.loc[df['reserved_room_type'] < df['assigned_room_type']], 'is_canceled', 'Cancelations with downgraging room type')"
   ]
  },
  {
   "cell_type": "code",
   "execution_count": null,
   "metadata": {},
   "outputs": [],
   "source": [
    "utils.get_pie_plot(df.loc[df['reserved_room_type'] > df['assigned_room_type']], 'is_canceled', 'Cancelations with updated room type')"
   ]
  },
  {
   "cell_type": "code",
   "execution_count": null,
   "metadata": {},
   "outputs": [],
   "source": []
  },
  {
   "cell_type": "markdown",
   "metadata": {},
   "source": [
    "### booking_changes\n",
    "Number of changes/amendments made to the booking from the moment the booking was entered on the PMS until the moment of check-in or cancellation"
   ]
  },
  {
   "cell_type": "code",
   "execution_count": null,
   "metadata": {},
   "outputs": [],
   "source": [
    "utils.get_histogram_plot(df,'booking_changes','Number of changes/amendments made to the booking',20)"
   ]
  },
  {
   "cell_type": "code",
   "execution_count": null,
   "metadata": {},
   "outputs": [],
   "source": [
    "utils.get_histogram_target_plot(df,'booking_changes','Number of changes/amendments made to the booking',20)"
   ]
  },
  {
   "cell_type": "markdown",
   "metadata": {},
   "source": [
    "### deposit_type\n",
    "Indication on if the customer made a deposit to guarantee the booking. This variable can assume three categories:"
   ]
  },
  {
   "cell_type": "code",
   "execution_count": null,
   "metadata": {},
   "outputs": [],
   "source": [
    "utils.get_pie_plot(df,'deposit_type', 'Indication on if the customer made a deposit to guarantee the booking')\n"
   ]
  },
  {
   "cell_type": "code",
   "execution_count": null,
   "metadata": {},
   "outputs": [],
   "source": [
    "utils.get_histogram_target_plot(df,'deposit_type', 'Indication on if the customer made a deposit to guarantee the booking', len(df.deposit_type.unique()))"
   ]
  },
  {
   "cell_type": "code",
   "execution_count": null,
   "metadata": {},
   "outputs": [],
   "source": [
    "fig = px.histogram(df[df['is_canceled'] == 'canceled'],x='deposit_type', width=800, height=600, barmode='group', \n",
    "                   title = 'Canceled bookings by type of group deposit',color='customer_type', color_discrete_sequence=colors, nbins=15, histnorm='percent')\n",
    "fig.update_layout(\n",
    "    xaxis_title=\"Deposite type\", yaxis_title=\"% of cancellation\"\n",
    ")\n",
    "fig.show()"
   ]
  },
  {
   "cell_type": "code",
   "execution_count": null,
   "metadata": {},
   "outputs": [],
   "source": [
    "deposit_type =  df.groupby(by=['deposit_type','is_canceled']).agg({'is_canceled': 'count'})\n",
    "deposit_type_pcts = deposit_type.groupby(level=0).apply(lambda x:\n",
    "                                                 100 * x / float(x.sum()))\n",
    "deposit_type_pcts"
   ]
  },
  {
   "cell_type": "code",
   "execution_count": null,
   "metadata": {},
   "outputs": [],
   "source": [
    "df"
   ]
  },
  {
   "cell_type": "markdown",
   "metadata": {},
   "source": [
    "### Agent \n",
    "Agent ID \n",
    "\n"
   ]
  },
  {
   "cell_type": "code",
   "execution_count": null,
   "metadata": {},
   "outputs": [],
   "source": [
    "utils.get_histogram_target_plot(df,'agent','ID of the travel agency that made the booking', 400)"
   ]
  },
  {
   "cell_type": "code",
   "execution_count": null,
   "metadata": {},
   "outputs": [],
   "source": [
    "df['agent'].value_counts().head(15).sum()"
   ]
  },
  {
   "cell_type": "markdown",
   "metadata": {},
   "source": [
    "### days_in_waiting_list\n",
    "Number of days the booking was in the waiting list before it was confirmed to the customer"
   ]
  },
  {
   "cell_type": "code",
   "execution_count": null,
   "metadata": {},
   "outputs": [],
   "source": [
    "utils.get_histogram_plot(df,'days_in_waiting_list','Number of days the booking was in the waiting list before it was confirmed', 20)"
   ]
  },
  {
   "cell_type": "code",
   "execution_count": null,
   "metadata": {},
   "outputs": [],
   "source": [
    "utils.get_histogram_target_plot(df.loc[df['days_in_waiting_list']<100,],'days_in_waiting_list','Number of days the booking was in the waiting list before it was confirmed', 20)"
   ]
  },
  {
   "cell_type": "markdown",
   "metadata": {},
   "source": [
    "### customer_type\n",
    "#### Type of booking, assuming one of four categories:\n",
    "<ul>\n",
    "<li> Contract - when the booking has an allotment or other type of contract associated to it</li>\n",
    "<li> Group – when the booking is associated to a group</li>\n",
    "<li> Transient – when the booking is not part of a group or contract, and is not associated to other transient booking</li>\n",
    "<li> Transient-party – when the booking is transient, but is associated to at least other transient booking</li>\n",
    "</ul>"
   ]
  },
  {
   "cell_type": "code",
   "execution_count": null,
   "metadata": {},
   "outputs": [],
   "source": [
    "utils.get_pie_plot(df,'customer_type', 'Type of booking')"
   ]
  },
  {
   "cell_type": "code",
   "execution_count": null,
   "metadata": {},
   "outputs": [],
   "source": []
  },
  {
   "cell_type": "code",
   "execution_count": null,
   "metadata": {},
   "outputs": [],
   "source": [
    "utils.get_histogram_target_plot(df,'customer_type', 'Type of booking')"
   ]
  },
  {
   "cell_type": "markdown",
   "metadata": {},
   "source": [
    "### adr\n",
    "Average Daily Rate as defined by dividing the sum of all lodging transactions by the total number of staying nights"
   ]
  },
  {
   "cell_type": "code",
   "execution_count": null,
   "metadata": {},
   "outputs": [],
   "source": [
    "utils.get_box_plot(df,'adr', 'Average Daily Rate')"
   ]
  },
  {
   "cell_type": "code",
   "execution_count": null,
   "metadata": {},
   "outputs": [],
   "source": [
    "fig = px.histogram(df.loc[df['adr']<500,], x=\"adr\", color=\"is_canceled\",\n",
    "                   marginal=\"rug\", # or violin, rug\n",
    "                   hover_data=df.columns\n",
    "                   )\n",
    "fig.show()"
   ]
  },
  {
   "cell_type": "markdown",
   "metadata": {},
   "source": [
    "### required_car_parking_spaces\n",
    "Number of car parking spaces required by the customer\n",
    "\n"
   ]
  },
  {
   "cell_type": "code",
   "execution_count": null,
   "metadata": {},
   "outputs": [],
   "source": [
    "utils.get_pie_plot(df,'required_car_parking_spaces', 'Number of car parking spaces required by the customer')"
   ]
  },
  {
   "cell_type": "code",
   "execution_count": null,
   "metadata": {},
   "outputs": [],
   "source": [
    "utils.get_histogram_target_plot(df,'required_car_parking_spaces', 'Number of car parking spaces required by the customer')"
   ]
  },
  {
   "cell_type": "markdown",
   "metadata": {},
   "source": [
    "### total_of_special_requests\n",
    "Number of special requests made by the customer (e.g. twin bed or high floor)\n",
    "\n"
   ]
  },
  {
   "cell_type": "code",
   "execution_count": null,
   "metadata": {},
   "outputs": [],
   "source": [
    "utils.get_pie_plot(df,'total_of_special_requests', 'Number of special requests made by the customer (e.g. twin bed or high floor)')"
   ]
  },
  {
   "cell_type": "code",
   "execution_count": null,
   "metadata": {},
   "outputs": [],
   "source": [
    "utils.get_histogram_target_plot(df,'total_of_special_requests', 'Number of special requests made by the customer (e.g. twin bed or high floor)')"
   ]
  },
  {
   "cell_type": "markdown",
   "metadata": {},
   "source": [
    "### reservation_status\n",
    "#### character\n",
    "Reservation last status, assuming one of three categories:\n",
    "\n",
    "<ul>\n",
    "<li>Canceled – booking was canceled by the customer; </li>\n",
    "<li>Check-Out – customer has checked in but already departed;</li>\n",
    "<li>No-Show – customer did not check-in and did inform the hotel of the reason why</li>\n",
    "</ul>\n",
    "\n"
   ]
  },
  {
   "cell_type": "code",
   "execution_count": null,
   "metadata": {},
   "outputs": [],
   "source": [
    "utils.get_pie_plot(df,'reservation_status', 'Reservation last status, assuming one of three categories:')"
   ]
  },
  {
   "cell_type": "code",
   "execution_count": null,
   "metadata": {},
   "outputs": [],
   "source": []
  },
  {
   "cell_type": "markdown",
   "metadata": {},
   "source": [
    "#### Explore data for Portugal \n",
    "72% of cancelations relates to City hotels"
   ]
  },
  {
   "cell_type": "code",
   "execution_count": null,
   "metadata": {},
   "outputs": [],
   "source": [
    "prt_data =  df[df.country =='PRT'].copy()"
   ]
  },
  {
   "cell_type": "code",
   "execution_count": null,
   "metadata": {},
   "outputs": [],
   "source": [
    "prt_data.groupby(by=['hotel','is_canceled'])['is_canceled'].count()"
   ]
  },
  {
   "cell_type": "code",
   "execution_count": null,
   "metadata": {},
   "outputs": [],
   "source": [
    "fig = px.pie(prt_data,names='hotel', width=600, height=400, title = 'Hotel type in Portugal', color_discrete_sequence=px.colors.sequential.thermal)\n",
    "fig.show()"
   ]
  },
  {
   "cell_type": "code",
   "execution_count": null,
   "metadata": {},
   "outputs": [],
   "source": [
    "prt_data.agent.value_counts()"
   ]
  },
  {
   "cell_type": "code",
   "execution_count": null,
   "metadata": {},
   "outputs": [],
   "source": [
    "utils.get_histogram_target_plot(prt_data,'agent','ID of the travel agency that made the booking', 400)"
   ]
  },
  {
   "cell_type": "code",
   "execution_count": null,
   "metadata": {},
   "outputs": [],
   "source": []
  }
 ],
 "metadata": {
  "kernelspec": {
   "display_name": "Python 3.10.0 64-bit",
   "language": "python",
   "name": "python3"
  },
  "language_info": {
   "codemirror_mode": {
    "name": "ipython",
    "version": 3
   },
   "file_extension": ".py",
   "mimetype": "text/x-python",
   "name": "python",
   "nbconvert_exporter": "python",
   "pygments_lexer": "ipython3",
   "version": "3.10.0"
  },
  "orig_nbformat": 4,
  "vscode": {
   "interpreter": {
    "hash": "98590ff4fe04c8543246b2a01debd3de3c5ca9b666f43f1fa87d5110c692004c"
   }
  }
 },
 "nbformat": 4,
 "nbformat_minor": 2
}
