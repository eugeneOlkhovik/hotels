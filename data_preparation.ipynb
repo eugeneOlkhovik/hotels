{
 "cells": [
  {
   "cell_type": "code",
   "execution_count": 221,
   "metadata": {},
   "outputs": [],
   "source": [
    "import pandas as pd\n",
    "import numpy as np\n",
    "import missingno as msno\n",
    "from category_encoders import TargetEncoder\n",
    "from scipy.stats import gamma, kstest\n",
    "from scipy import stats\n",
    "import utils"
   ]
  },
  {
   "cell_type": "code",
   "execution_count": 222,
   "metadata": {},
   "outputs": [
    {
     "name": "stdout",
     "output_type": "stream",
     "text": [
      "Data set has 119390 records and 32 parameters\n"
     ]
    }
   ],
   "source": [
    "df = pd.read_csv('hotels.csv')\n",
    "print(f'Data set has {df.shape[0]} records and {df.shape[1]} parameters')\n"
   ]
  },
  {
   "cell_type": "code",
   "execution_count": 223,
   "metadata": {},
   "outputs": [],
   "source": [
    "date_columns =[\n",
    "\"arrival_date_year\",\n",
    "\"arrival_date_month\",\n",
    "\"arrival_date_week_number\",\n",
    "\"arrival_date_day_of_month\",\n",
    "\"reservation_status_date\",\n",
    "\"stays_in_weekend_nights\",\n",
    "\"stays_in_week_nights\",\n",
    "\"reservation_status\"\n",
    "]"
   ]
  },
  {
   "cell_type": "markdown",
   "metadata": {},
   "source": [
    "### Missing values\n",
    "<ul>\n",
    "<li>'Company' column can be eliminated since it is almost empty (95% of missing values).</li>\n",
    "<li>'Agent' column has 13% of NaN</li>\n",
    "<li>'previous_cancellations' and 'country' columns have less than 1% of NaN values</li>\n",
    "</ul>\n",
    "Thus, it is accesible to remove records comprising Nan values"
   ]
  },
  {
   "cell_type": "code",
   "execution_count": 224,
   "metadata": {},
   "outputs": [
    {
     "data": {
      "text/plain": [
       "company                   94.31\n",
       "agent                     13.69\n",
       "country                    0.41\n",
       "hotel                      0.00\n",
       "previous_cancellations     0.00\n",
       "dtype: float64"
      ]
     },
     "execution_count": 224,
     "metadata": {},
     "output_type": "execute_result"
    }
   ],
   "source": [
    "df.isnull().mean().round(4).mul(100).sort_values(ascending=False).head(5)"
   ]
  },
  {
   "cell_type": "code",
   "execution_count": 225,
   "metadata": {},
   "outputs": [],
   "source": [
    "df = df.drop(['company'], axis=1)\n",
    "df = df.dropna()"
   ]
  },
  {
   "cell_type": "markdown",
   "metadata": {},
   "source": [
    "### Combine columns related to arriving date (year, month, day) in date arriving date column\n",
    "drop arring week column"
   ]
  },
  {
   "cell_type": "code",
   "execution_count": 226,
   "metadata": {},
   "outputs": [],
   "source": [
    "import calendar\n",
    "\n",
    "df['arrival_date_month'] = df['arrival_date_month'].map({v: k for k,v in enumerate(calendar.month_name)})\n",
    "\n",
    "df.arrival_date_year = pd.to_numeric(df.arrival_date_year)\n",
    "df.arrival_date_month = pd.to_numeric(df.arrival_date_month)\n",
    "df.arrival_date_day_of_month = pd.to_numeric(df.arrival_date_day_of_month)\n",
    "\n",
    "df.rename(columns = {'arrival_date_year':'year','arrival_date_month':'month','arrival_date_day_of_month':'day'}, inplace=True)\n",
    "df['arrival_date'] = pd.to_datetime(df[['year','month', 'day']])\n",
    "df.drop(columns=['year','month','day','arrival_date_week_number'], inplace=True)"
   ]
  },
  {
   "cell_type": "code",
   "execution_count": 227,
   "metadata": {},
   "outputs": [
    {
     "data": {
      "text/html": [
       "<div>\n",
       "<style scoped>\n",
       "    .dataframe tbody tr th:only-of-type {\n",
       "        vertical-align: middle;\n",
       "    }\n",
       "\n",
       "    .dataframe tbody tr th {\n",
       "        vertical-align: top;\n",
       "    }\n",
       "\n",
       "    .dataframe thead th {\n",
       "        text-align: right;\n",
       "    }\n",
       "</style>\n",
       "<table border=\"1\" class=\"dataframe\">\n",
       "  <thead>\n",
       "    <tr style=\"text-align: right;\">\n",
       "      <th></th>\n",
       "      <th>hotel</th>\n",
       "      <th>is_canceled</th>\n",
       "      <th>lead_time</th>\n",
       "      <th>stays_in_weekend_nights</th>\n",
       "      <th>stays_in_week_nights</th>\n",
       "      <th>adults</th>\n",
       "      <th>children</th>\n",
       "      <th>babies</th>\n",
       "      <th>meal</th>\n",
       "      <th>country</th>\n",
       "      <th>...</th>\n",
       "      <th>deposit_type</th>\n",
       "      <th>agent</th>\n",
       "      <th>days_in_waiting_list</th>\n",
       "      <th>customer_type</th>\n",
       "      <th>adr</th>\n",
       "      <th>required_car_parking_spaces</th>\n",
       "      <th>total_of_special_requests</th>\n",
       "      <th>reservation_status</th>\n",
       "      <th>reservation_status_date</th>\n",
       "      <th>arrival_date</th>\n",
       "    </tr>\n",
       "  </thead>\n",
       "  <tbody>\n",
       "    <tr>\n",
       "      <th>3</th>\n",
       "      <td>Resort Hotel</td>\n",
       "      <td>0</td>\n",
       "      <td>13</td>\n",
       "      <td>0</td>\n",
       "      <td>1</td>\n",
       "      <td>1</td>\n",
       "      <td>0.0</td>\n",
       "      <td>0</td>\n",
       "      <td>BB</td>\n",
       "      <td>GBR</td>\n",
       "      <td>...</td>\n",
       "      <td>No Deposit</td>\n",
       "      <td>304.0</td>\n",
       "      <td>0</td>\n",
       "      <td>Transient</td>\n",
       "      <td>75.0</td>\n",
       "      <td>0</td>\n",
       "      <td>0</td>\n",
       "      <td>Check-Out</td>\n",
       "      <td>2015-07-02</td>\n",
       "      <td>2015-07-01</td>\n",
       "    </tr>\n",
       "    <tr>\n",
       "      <th>4</th>\n",
       "      <td>Resort Hotel</td>\n",
       "      <td>0</td>\n",
       "      <td>14</td>\n",
       "      <td>0</td>\n",
       "      <td>2</td>\n",
       "      <td>2</td>\n",
       "      <td>0.0</td>\n",
       "      <td>0</td>\n",
       "      <td>BB</td>\n",
       "      <td>GBR</td>\n",
       "      <td>...</td>\n",
       "      <td>No Deposit</td>\n",
       "      <td>240.0</td>\n",
       "      <td>0</td>\n",
       "      <td>Transient</td>\n",
       "      <td>98.0</td>\n",
       "      <td>0</td>\n",
       "      <td>1</td>\n",
       "      <td>Check-Out</td>\n",
       "      <td>2015-07-03</td>\n",
       "      <td>2015-07-01</td>\n",
       "    </tr>\n",
       "    <tr>\n",
       "      <th>5</th>\n",
       "      <td>Resort Hotel</td>\n",
       "      <td>0</td>\n",
       "      <td>14</td>\n",
       "      <td>0</td>\n",
       "      <td>2</td>\n",
       "      <td>2</td>\n",
       "      <td>0.0</td>\n",
       "      <td>0</td>\n",
       "      <td>BB</td>\n",
       "      <td>GBR</td>\n",
       "      <td>...</td>\n",
       "      <td>No Deposit</td>\n",
       "      <td>240.0</td>\n",
       "      <td>0</td>\n",
       "      <td>Transient</td>\n",
       "      <td>98.0</td>\n",
       "      <td>0</td>\n",
       "      <td>1</td>\n",
       "      <td>Check-Out</td>\n",
       "      <td>2015-07-03</td>\n",
       "      <td>2015-07-01</td>\n",
       "    </tr>\n",
       "    <tr>\n",
       "      <th>7</th>\n",
       "      <td>Resort Hotel</td>\n",
       "      <td>0</td>\n",
       "      <td>9</td>\n",
       "      <td>0</td>\n",
       "      <td>2</td>\n",
       "      <td>2</td>\n",
       "      <td>0.0</td>\n",
       "      <td>0</td>\n",
       "      <td>FB</td>\n",
       "      <td>PRT</td>\n",
       "      <td>...</td>\n",
       "      <td>No Deposit</td>\n",
       "      <td>303.0</td>\n",
       "      <td>0</td>\n",
       "      <td>Transient</td>\n",
       "      <td>103.0</td>\n",
       "      <td>0</td>\n",
       "      <td>1</td>\n",
       "      <td>Check-Out</td>\n",
       "      <td>2015-07-03</td>\n",
       "      <td>2015-07-01</td>\n",
       "    </tr>\n",
       "    <tr>\n",
       "      <th>8</th>\n",
       "      <td>Resort Hotel</td>\n",
       "      <td>1</td>\n",
       "      <td>85</td>\n",
       "      <td>0</td>\n",
       "      <td>3</td>\n",
       "      <td>2</td>\n",
       "      <td>0.0</td>\n",
       "      <td>0</td>\n",
       "      <td>BB</td>\n",
       "      <td>PRT</td>\n",
       "      <td>...</td>\n",
       "      <td>No Deposit</td>\n",
       "      <td>240.0</td>\n",
       "      <td>0</td>\n",
       "      <td>Transient</td>\n",
       "      <td>82.0</td>\n",
       "      <td>0</td>\n",
       "      <td>1</td>\n",
       "      <td>Canceled</td>\n",
       "      <td>2015-05-06</td>\n",
       "      <td>2015-07-01</td>\n",
       "    </tr>\n",
       "  </tbody>\n",
       "</table>\n",
       "<p>5 rows × 28 columns</p>\n",
       "</div>"
      ],
      "text/plain": [
       "          hotel  is_canceled  lead_time  stays_in_weekend_nights  \\\n",
       "3  Resort Hotel            0         13                        0   \n",
       "4  Resort Hotel            0         14                        0   \n",
       "5  Resort Hotel            0         14                        0   \n",
       "7  Resort Hotel            0          9                        0   \n",
       "8  Resort Hotel            1         85                        0   \n",
       "\n",
       "   stays_in_week_nights  adults  children  babies meal country  ...  \\\n",
       "3                     1       1       0.0       0   BB     GBR  ...   \n",
       "4                     2       2       0.0       0   BB     GBR  ...   \n",
       "5                     2       2       0.0       0   BB     GBR  ...   \n",
       "7                     2       2       0.0       0   FB     PRT  ...   \n",
       "8                     3       2       0.0       0   BB     PRT  ...   \n",
       "\n",
       "  deposit_type  agent  days_in_waiting_list  customer_type    adr  \\\n",
       "3   No Deposit  304.0                     0      Transient   75.0   \n",
       "4   No Deposit  240.0                     0      Transient   98.0   \n",
       "5   No Deposit  240.0                     0      Transient   98.0   \n",
       "7   No Deposit  303.0                     0      Transient  103.0   \n",
       "8   No Deposit  240.0                     0      Transient   82.0   \n",
       "\n",
       "  required_car_parking_spaces total_of_special_requests  reservation_status  \\\n",
       "3                           0                         0           Check-Out   \n",
       "4                           0                         1           Check-Out   \n",
       "5                           0                         1           Check-Out   \n",
       "7                           0                         1           Check-Out   \n",
       "8                           0                         1            Canceled   \n",
       "\n",
       "  reservation_status_date  arrival_date  \n",
       "3              2015-07-02    2015-07-01  \n",
       "4              2015-07-03    2015-07-01  \n",
       "5              2015-07-03    2015-07-01  \n",
       "7              2015-07-03    2015-07-01  \n",
       "8              2015-05-06    2015-07-01  \n",
       "\n",
       "[5 rows x 28 columns]"
      ]
     },
     "execution_count": 227,
     "metadata": {},
     "output_type": "execute_result"
    }
   ],
   "source": [
    "df.head()"
   ]
  },
  {
   "cell_type": "code",
   "execution_count": 228,
   "metadata": {},
   "outputs": [
    {
     "data": {
      "text/plain": [
       "(102894, 28)"
      ]
     },
     "execution_count": 228,
     "metadata": {},
     "output_type": "execute_result"
    }
   ],
   "source": [
    "df.shape"
   ]
  },
  {
   "cell_type": "markdown",
   "metadata": {},
   "source": [
    "### lead time  (Important feature)\n",
    "<ul>\n",
    " <li>According to box plot we can observe huge amount of outliers </li>\n",
    " <li>with IQR technique minimum outlier value was set as 384 for whole column</li>\n",
    " <li> For canceled booking minimun outlier values is 461, and for not canceled 313 </li>\n",
    "</ul>"
   ]
  },
  {
   "cell_type": "code",
   "execution_count": 229,
   "metadata": {},
   "outputs": [
    {
     "name": "stdout",
     "output_type": "stream",
     "text": [
      "number of outliers: 2576\n",
      "max outlier value: 629\n",
      "min outlier value: 384\n"
     ]
    }
   ],
   "source": [
    "utils.find_outliers_IQR(df.lead_time)"
   ]
  },
  {
   "cell_type": "code",
   "execution_count": 230,
   "metadata": {},
   "outputs": [],
   "source": [
    "lead_time_upper_bound = 384\n",
    "df.drop(df[df['lead_time'] > lead_time_upper_bound].index, inplace = True)"
   ]
  },
  {
   "cell_type": "markdown",
   "metadata": {},
   "source": [
    "### Hotel \n",
    "#### One hot encode 'hotel' column"
   ]
  },
  {
   "cell_type": "code",
   "execution_count": 231,
   "metadata": {},
   "outputs": [],
   "source": [
    "df['hotel'] =  pd.get_dummies(df.hotel, drop_first=True)\n",
    "df.rename(columns={'hotel' : \"resot_hotel\"}, inplace=True)"
   ]
  },
  {
   "cell_type": "markdown",
   "metadata": {},
   "source": [
    "### Adults and children\n",
    "From disturbution plots of these columns we can observe that there is no huge variance, in another words variance considered as 'information' gained from variable. So, this 3 columns can be eliminated "
   ]
  },
  {
   "cell_type": "code",
   "execution_count": 232,
   "metadata": {},
   "outputs": [],
   "source": [
    "df.drop(columns=['adults', 'children', 'babies'], inplace=True)"
   ]
  },
  {
   "cell_type": "markdown",
   "metadata": {},
   "source": [
    "### Meal \n",
    "Eliminate"
   ]
  },
  {
   "cell_type": "code",
   "execution_count": 233,
   "metadata": {},
   "outputs": [],
   "source": [
    "df.drop(columns=['meal'], inplace=True)"
   ]
  },
  {
   "cell_type": "markdown",
   "metadata": {},
   "source": [
    "### Country\n",
    "Country column will be droped since it adds bias to the data and decrease model perfomace with origin of booking"
   ]
  },
  {
   "cell_type": "code",
   "execution_count": 234,
   "metadata": {},
   "outputs": [],
   "source": [
    "df.drop(columns=['country'], inplace=True)"
   ]
  },
  {
   "cell_type": "code",
   "execution_count": null,
   "metadata": {},
   "outputs": [],
   "source": []
  },
  {
   "cell_type": "markdown",
   "metadata": {},
   "source": [
    "### market_segment and distribution_channel\n",
    "Significant variable in the data \n",
    "\n",
    "<b>distribution_channel</b> will be one hot encoded and <b>market_segment</b> will be target encoded"
   ]
  },
  {
   "cell_type": "code",
   "execution_count": 235,
   "metadata": {},
   "outputs": [],
   "source": [
    "encoder = TargetEncoder()\n",
    "df['market_segment'] = encoder.fit_transform(df['market_segment'], df['is_canceled'])"
   ]
  },
  {
   "cell_type": "code",
   "execution_count": 236,
   "metadata": {},
   "outputs": [],
   "source": [
    "distribution_channel = pd.get_dummies(df['distribution_channel'], drop_first=True)\n",
    "df = df.drop('distribution_channel',axis = 1)\n",
    "df = df.join(distribution_channel)"
   ]
  },
  {
   "cell_type": "markdown",
   "metadata": {},
   "source": [
    "### is_repeated_guest\n",
    "keep\n",
    "\n"
   ]
  },
  {
   "cell_type": "markdown",
   "metadata": {},
   "source": [
    "### previous_cancellations and previous_bookings_not_canceled\n",
    "Can be dropped \n"
   ]
  },
  {
   "cell_type": "code",
   "execution_count": 237,
   "metadata": {},
   "outputs": [],
   "source": [
    "df.drop(columns=['previous_cancellations','previous_bookings_not_canceled'], inplace=True)"
   ]
  },
  {
   "cell_type": "markdown",
   "metadata": {},
   "source": [
    "### reserved_room_type and assigned_room_type\n",
    "Tatrget encode "
   ]
  },
  {
   "cell_type": "code",
   "execution_count": 238,
   "metadata": {},
   "outputs": [],
   "source": [
    "encoder = TargetEncoder()\n",
    "df['assigned_room_type'] = encoder.fit_transform(df['assigned_room_type'], df['is_canceled'])\n",
    "encoder = TargetEncoder()\n",
    "df['reserved_room_type'] = encoder.fit_transform(df['reserved_room_type'], df['is_canceled'])"
   ]
  },
  {
   "cell_type": "markdown",
   "metadata": {},
   "source": [
    "### booking_changes\n",
    "Number of changes/amendments made to the booking from the moment the booking was entered on the PMS until the moment of check-in or cancellation\n",
    "\n",
    "Can be droped"
   ]
  },
  {
   "cell_type": "code",
   "execution_count": 239,
   "metadata": {},
   "outputs": [],
   "source": [
    "df.drop(columns=['booking_changes'], inplace=True)"
   ]
  },
  {
   "cell_type": "markdown",
   "metadata": {},
   "source": [
    "### deposit_type\n",
    "Indication on if the customer made a deposit to guarantee the booking. This variable can assume three categories:\n",
    "\n",
    "Since there are only 48 records with 'Refundable' type of deposit, which means deposit was made under full cost of booking,\n",
    " this records will be combined with 'Non Refund' (a deposit was made in the value of the total stay cost) and named Deposit. After that new vvariable will be one hot encoded"
   ]
  },
  {
   "cell_type": "code",
   "execution_count": 240,
   "metadata": {},
   "outputs": [],
   "source": [
    "df.loc[df[\"deposit_type\"] == \"Refundable\", \"deposit_type\"] = \"deposit\"\n",
    "df.loc[df[\"deposit_type\"] == \"Non Refund\", \"deposit_type\"] = \"deposit\"\n",
    "df[\"deposit_type\"] = np.where(df[\"deposit_type\"] == \"deposit\", 1, 0)"
   ]
  },
  {
   "cell_type": "markdown",
   "metadata": {},
   "source": [
    "### Agent ID\n",
    "\n",
    "Despite of varaibility of infromation, this variable is unbalanced and top-15 agents has 75k of records out of 102k. In general there 332 agents\n",
    "\n",
    "Drop "
   ]
  },
  {
   "cell_type": "code",
   "execution_count": 241,
   "metadata": {},
   "outputs": [],
   "source": [
    "df = df.drop(['agent'], axis=1)\n"
   ]
  },
  {
   "cell_type": "markdown",
   "metadata": {},
   "source": [
    "### days_in_waiting_list\n",
    "Number of days the booking was in the waiting list before it was confirmed to the customer\n",
    "\n",
    "Change from continuous to categorical: \n",
    "<ul>\n",
    "<li> 0-1 -day = imm</li>\n",
    "<li> 1-7 -days = fast</li>\n",
    "<li> 7-30 days = slow</li>\n",
    "<li> 30+ = very slow</li>\n",
    "</ul>\n",
    "\n",
    "And then lable encoded"
   ]
  },
  {
   "cell_type": "code",
   "execution_count": 242,
   "metadata": {},
   "outputs": [],
   "source": [
    "df['days_in_waiting_list'] = pd.cut(x=df['days_in_waiting_list'], bins=[0, 1,7, 30,900],\n",
    "                     labels=['imm', 'fast', 'slow',\n",
    "                             'very'])"
   ]
  },
  {
   "cell_type": "code",
   "execution_count": 243,
   "metadata": {},
   "outputs": [],
   "source": [
    "encoder = TargetEncoder()\n",
    "df['days_in_waiting_list'] = encoder.fit_transform(df['days_in_waiting_list'], df['is_canceled'])"
   ]
  },
  {
   "cell_type": "markdown",
   "metadata": {},
   "source": [
    "### customer_type\n",
    "#### Type of booking, assuming one of four categories:\n",
    "<ul>\n",
    "<li> Contract - when the booking has an allotment or other type of contract associated to it</li>\n",
    "<li> Group – when the booking is associated to a group</li>\n",
    "<li> Transient – when the booking is not part of a group or contract, and is not associated to other transient booking</li>\n",
    "<li> Transient-party – when the booking is transient, but is associated to at least other transient booking</li>\n",
    "</ul>\n",
    "\n",
    "\n",
    "Target Encoded"
   ]
  },
  {
   "cell_type": "code",
   "execution_count": null,
   "metadata": {},
   "outputs": [],
   "source": []
  },
  {
   "cell_type": "code",
   "execution_count": 244,
   "metadata": {},
   "outputs": [],
   "source": [
    "encoder = TargetEncoder()\n",
    "df['customer_type'] = encoder.fit_transform(df['customer_type'], df['is_canceled'])"
   ]
  },
  {
   "cell_type": "markdown",
   "metadata": {},
   "source": [
    "### adr\n",
    "Average Daily Rate as defined by dividing the sum of all lodging transactions by the total number of staying nights\n",
    "\n",
    "Dealing with outliers"
   ]
  },
  {
   "cell_type": "code",
   "execution_count": 245,
   "metadata": {},
   "outputs": [],
   "source": [
    "Q1 = df.adr.quantile(0.25)\n",
    "Q3 = df.adr.quantile(0.75)\n",
    "IQR = Q3 - Q1\n",
    "df.drop(df[df['adr'] < (Q1 - 1.5 * IQR)].index, inplace = True)\n",
    "df.drop(df[df['adr'] > (Q3 + 1.5 * IQR)].index, inplace = True)\n"
   ]
  },
  {
   "cell_type": "markdown",
   "metadata": {},
   "source": [
    "### required_car_parking_spaces\n",
    "Number of car parking spaces required by the customer\n",
    "\n",
    "Keep"
   ]
  },
  {
   "cell_type": "code",
   "execution_count": 246,
   "metadata": {},
   "outputs": [],
   "source": [
    "df.drop(columns=['required_car_parking_spaces'], inplace = True)\n"
   ]
  },
  {
   "cell_type": "markdown",
   "metadata": {},
   "source": [
    "### total_of_special_requests\n",
    "Number of special requests made by the customer (e.g. twin bed or high floor)\n",
    "\n",
    "Target encoded"
   ]
  },
  {
   "cell_type": "code",
   "execution_count": 247,
   "metadata": {},
   "outputs": [],
   "source": [
    "encoder = TargetEncoder()\n",
    "df['total_of_special_requests'] = encoder.fit_transform(df['total_of_special_requests'], df['is_canceled'])"
   ]
  },
  {
   "cell_type": "markdown",
   "metadata": {},
   "source": [
    "### reservation status column\n",
    "Needs to be droped since highly correlated with target variable"
   ]
  },
  {
   "cell_type": "code",
   "execution_count": 249,
   "metadata": {},
   "outputs": [],
   "source": [
    "df.drop(columns=['reservation_status'], inplace = True)\n"
   ]
  },
  {
   "cell_type": "code",
   "execution_count": 251,
   "metadata": {},
   "outputs": [],
   "source": [
    "df.drop(columns=['reservation_status_date','arrival_date'], inplace = True)\n"
   ]
  },
  {
   "cell_type": "code",
   "execution_count": null,
   "metadata": {},
   "outputs": [],
   "source": []
  },
  {
   "cell_type": "code",
   "execution_count": null,
   "metadata": {},
   "outputs": [],
   "source": []
  },
  {
   "cell_type": "code",
   "execution_count": 254,
   "metadata": {},
   "outputs": [],
   "source": [
    "df.to_csv('hotels_processed.csv',index=False)"
   ]
  },
  {
   "cell_type": "code",
   "execution_count": null,
   "metadata": {},
   "outputs": [],
   "source": []
  },
  {
   "cell_type": "code",
   "execution_count": null,
   "metadata": {},
   "outputs": [],
   "source": []
  },
  {
   "cell_type": "code",
   "execution_count": null,
   "metadata": {},
   "outputs": [],
   "source": []
  },
  {
   "cell_type": "code",
   "execution_count": null,
   "metadata": {},
   "outputs": [],
   "source": []
  },
  {
   "cell_type": "code",
   "execution_count": null,
   "metadata": {},
   "outputs": [],
   "source": []
  }
 ],
 "metadata": {
  "kernelspec": {
   "display_name": "Python 3.10.0 64-bit",
   "language": "python",
   "name": "python3"
  },
  "language_info": {
   "codemirror_mode": {
    "name": "ipython",
    "version": 3
   },
   "file_extension": ".py",
   "mimetype": "text/x-python",
   "name": "python",
   "nbconvert_exporter": "python",
   "pygments_lexer": "ipython3",
   "version": "3.10.0"
  },
  "orig_nbformat": 4,
  "vscode": {
   "interpreter": {
    "hash": "98590ff4fe04c8543246b2a01debd3de3c5ca9b666f43f1fa87d5110c692004c"
   }
  }
 },
 "nbformat": 4,
 "nbformat_minor": 2
}
